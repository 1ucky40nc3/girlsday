{
  "nbformat": 4,
  "nbformat_minor": 0,
  "metadata": {
    "colab": {
      "name": "intro_python.ipynb",
      "provenance": [],
      "collapsed_sections": [],
      "authorship_tag": "ABX9TyN4aXiqy/opbyuKrNL0PL1P",
      "include_colab_link": true
    },
    "kernelspec": {
      "name": "python3",
      "display_name": "Python 3"
    },
    "language_info": {
      "name": "python"
    }
  },
  "cells": [
    {
      "cell_type": "markdown",
      "metadata": {
        "id": "view-in-github",
        "colab_type": "text"
      },
      "source": [
        "<a href=\"https://colab.research.google.com/github/1ucky40nc3/girlsday/blob/copy_paste/intro_python.ipynb\" target=\"_parent\"><img src=\"https://colab.research.google.com/assets/colab-badge.svg\" alt=\"Open In Colab\"/></a>"
      ]
    },
    {
      "cell_type": "markdown",
      "metadata": {
        "id": "E8A-35zBQjnQ"
      },
      "source": [
        "##1. Variablen und Datentypen"
      ]
    },
    {
      "cell_type": "markdown",
      "metadata": {
        "id": "-aa5nn0uRCR_"
      },
      "source": [
        "Möchte man sich Werte merken, so speichert man diese in Variablen."
      ]
    },
    {
      "cell_type": "code",
      "metadata": {
        "id": "uKyB2rhvQc_k"
      },
      "source": [
        "a = 1\n",
        "b = 2"
      ],
      "execution_count": null,
      "outputs": []
    },
    {
      "cell_type": "markdown",
      "metadata": {
        "id": "4XHacnikRP59"
      },
      "source": [
        "###Variablen können mit folgenden Syntax deklariert werden.\n",
        "\n",
        "```\n",
        "name = Wert\n",
        "```\n",
        "\n",
        "###Folgende Konventionen gelten für Namen:\n",
        "\n",
        "\n",
        "*   Namen werden klein geschrieben\n",
        "```\n",
        "name = Wert\n",
        "integer = 1\n",
        "float = 1.0\n",
        "```\n",
        "*   Bestehen Namen aus mehreren Wörtern so werden diese mit einem \"_\" verbunden\n",
        "```\n",
        "langer_name = Wert\n",
        "integer_for_calculation = 1\n",
        "integer_for_calculation = 1.0\n",
        "```\n",
        "*   Namen dürfen nicht mit Zahlen anfangen, aber Zahlen enthalten\n",
        "```\n",
        "name1 = Wert\n",
        "integer2 = 1\n",
        "integer3 = 1.0\n",
        "```\n",
        "*   Namen dürfen keine Sonderzeichen enthalten\n"
      ]
    },
    {
      "cell_type": "markdown",
      "metadata": {
        "id": "-x--xVQRTbuC"
      },
      "source": [
        "###Werte in Python haben einen bestimmten Typ - Python kümmert sich aber darum\n",
        "\n",
        "```\n",
        "name = typ(Wert)\n",
        "```\n",
        "\n",
        "###Typische Typen sind\n",
        "\n",
        "*    Ganzzahlen (Integer)\n",
        "```\n",
        "a = 1\n",
        "b = 2\n",
        "```\n",
        "*    Fließkommazahlen (Float)\n",
        "```\n",
        "a = 1.0\n",
        "b = 2.0\n",
        "```\n",
        "*    Ketten von Zeichen (String)\n",
        "```\n",
        "a = \"Hello, World!\"\n",
        "b = \"How are you?\"\n",
        "```\n",
        "*    Listen\n",
        "```\n",
        "a = [1, \"Hello, World!\"]\n",
        "b = list((1, \"Hello, World!\"))\n",
        "```\n",
        "*    Objekte (alles in Python sind Objekte)"
      ]
    },
    {
      "cell_type": "markdown",
      "metadata": {
        "id": "37Sr7WtXU32X"
      },
      "source": [
        "## 2. Funktionen und Schleifen"
      ]
    },
    {
      "cell_type": "markdown",
      "metadata": {
        "id": "b9sWX1aIVMQO"
      },
      "source": [
        "###Um mit Werten effektiv arbeiten zu können, nutzen wir Funktionen und Schleifen\n",
        "\n",
        "---\n",
        "\n",
        "### Bevor Funktionen benutzt werden können, müssen diese definiert werden\n",
        "```python\n",
        "def function(parameter):                # Kopf der Funktion\n",
        "    return parameter                    # Körper der Funktion\n",
        "```\n",
        "\n",
        "---\n",
        "\n",
        "###Funktionen bestehen aus:\n",
        "*    Einen Kopf\n",
        "    *    Einen Namen\n",
        "    *    Eingabeparametern\n",
        "*    Einen Körper \n",
        "    *    Eine Menge Code\n",
        "    *    Eine Rückgabe\n",
        "\n",
        "---\n",
        "\n",
        "Der Kopf gibt den Namen der Funktion und Auskunf über die Variablen und Werte, welche verarbeitet werden sollen. Im Körper werden diese Variablen verwendet um eine Ausgabe zu erstellen, oder andere beliebige Kunststücke zu vollführen.\n",
        "\n",
        "---\n",
        "\n",
        "### Um Funktionen zu benutzen schreiben wir deren Namen und ihre Parameter in Klammern dahinter\n",
        "```\n",
        "function(parameter)\n",
        "```\n",
        "\n",
        "---\n",
        "Die Funktion zaubert uns folgend ein Ergebnis.\n"
      ]
    },
    {
      "cell_type": "code",
      "metadata": {
        "colab": {
          "base_uri": "https://localhost:8080/"
        },
        "id": "ALRJii9ZQsF9",
        "outputId": "7b3f1688-e3e5-48fe-efc7-5655241f7b21"
      },
      "source": [
        "print(a) # Die Ausgabefunktion \"print\" zeigt uns den Wert einer Variable als String\n",
        "print(b) # Wir können Code nacheinander aufschreiben. Er wird in Leserichtung ausgeführt."
      ],
      "execution_count": null,
      "outputs": [
        {
          "output_type": "stream",
          "text": [
            "1\n",
            "2\n"
          ],
          "name": "stdout"
        }
      ]
    },
    {
      "cell_type": "markdown",
      "metadata": {
        "id": "7fYmI9DjLYd7"
      },
      "source": [
        "###Schleifen haben eine ähnliche Struktur, wie Funktionen.\n",
        "\n",
        "---\n",
        "\n",
        "### Es gibt verschiede Arten von Schleifen.\n",
        "### Wir lernen jetzt die \"for\" Schleife.\n",
        "```python\n",
        "for i in list:           # Kopf def Schleife\n",
        "    print(i)             # Körper der Schleife\n",
        "```\n",
        "\n",
        "---\n",
        "\n",
        "Schleifen bestehen aus:\n",
        "*    Einen Kopf\n",
        "    *    Einen Variable, welche den Fortschritt in der Schleife zeigt\n",
        "    *    Eine Variable, wie eine Liste, aus der Variablen genommen werden können\n",
        "*    Einen Körper \n",
        "    *    Eine Menge Code, welcher wiederholt werden soll\n",
        "\n",
        "---\n",
        "Die Grundidee der \"for\"-Schleife ist, dass Elemente aus einer Liste nacheinander heraus genommen werden und mit denen im Körper der Schleife gearbeitet werden kann. Die Elemente der Liste sind unsere Variable, welche sich bei jeder Iteration verändert. Den Name der Variable gehört in den Kopf in der Schleife. Der Name verändert sich nicht, dafür aber der Wert. Diesen ziehen wir schließlich aus der Liste, deren Namen wir nach dem \"in\" Keyword angeben.\n"
      ]
    },
    {
      "cell_type": "code",
      "metadata": {
        "id": "0U_EwjeuQ7dm"
      },
      "source": [
        "l = [1, 2, 3, 4]"
      ],
      "execution_count": 1,
      "outputs": []
    },
    {
      "cell_type": "code",
      "metadata": {
        "id": "n8BVXIsnUcS5",
        "colab": {
          "base_uri": "https://localhost:8080/"
        },
        "outputId": "79e4c901-43f0-4c9f-8fd8-d1facfd57a6e"
      },
      "source": [
        "for i in l:\n",
        "    print(i)"
      ],
      "execution_count": 2,
      "outputs": [
        {
          "output_type": "stream",
          "text": [
            "1\n",
            "2\n",
            "3\n",
            "4\n"
          ],
          "name": "stdout"
        }
      ]
    },
    {
      "cell_type": "code",
      "metadata": {
        "id": "aPn-skGyOBd5"
      },
      "source": [
        "l = [\"Hello\", \"World\"]"
      ],
      "execution_count": 3,
      "outputs": []
    },
    {
      "cell_type": "code",
      "metadata": {
        "colab": {
          "base_uri": "https://localhost:8080/"
        },
        "id": "3YuGQmpMOH-w",
        "outputId": "f0c84bd1-0592-4a5d-b629-5fac972aa5fb"
      },
      "source": [
        "for i in l:\n",
        "    print(i)"
      ],
      "execution_count": 4,
      "outputs": [
        {
          "output_type": "stream",
          "text": [
            "Hello\n",
            "World\n"
          ],
          "name": "stdout"
        }
      ]
    },
    {
      "cell_type": "code",
      "metadata": {
        "id": "D5FYc18bOJya"
      },
      "source": [
        "l = [1, \"Hi\"]"
      ],
      "execution_count": 5,
      "outputs": []
    },
    {
      "cell_type": "code",
      "metadata": {
        "colab": {
          "base_uri": "https://localhost:8080/"
        },
        "id": "vRTrcnGZONfn",
        "outputId": "9713db82-e9e9-4c1b-f89f-a28486cd4d2c"
      },
      "source": [
        "for i in l:\n",
        "    print(i)"
      ],
      "execution_count": 6,
      "outputs": [
        {
          "output_type": "stream",
          "text": [
            "1\n",
            "Hi\n"
          ],
          "name": "stdout"
        }
      ]
    },
    {
      "cell_type": "code",
      "metadata": {
        "id": "GNKbGaiFOZr2"
      },
      "source": [
        "l = list(range(4))"
      ],
      "execution_count": 7,
      "outputs": []
    },
    {
      "cell_type": "code",
      "metadata": {
        "colab": {
          "base_uri": "https://localhost:8080/"
        },
        "id": "jPVj4A9nOclI",
        "outputId": "5fb8f4c3-6647-4dbb-e940-b9670920a8f3"
      },
      "source": [
        "for i in l:\n",
        "    print(i)"
      ],
      "execution_count": 8,
      "outputs": [
        {
          "output_type": "stream",
          "text": [
            "0\n",
            "1\n",
            "2\n",
            "3\n"
          ],
          "name": "stdout"
        }
      ]
    },
    {
      "cell_type": "code",
      "metadata": {
        "colab": {
          "base_uri": "https://localhost:8080/"
        },
        "id": "IionwEHmOeaI",
        "outputId": "bde228e4-d375-4571-ac5d-9ddf67b852c3"
      },
      "source": [
        "for i in range(4):\n",
        "    print(i)"
      ],
      "execution_count": 9,
      "outputs": [
        {
          "output_type": "stream",
          "text": [
            "0\n",
            "1\n",
            "2\n",
            "3\n"
          ],
          "name": "stdout"
        }
      ]
    }
  ]
}