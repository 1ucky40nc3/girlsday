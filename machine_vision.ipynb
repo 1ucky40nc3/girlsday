{
  "nbformat": 4,
  "nbformat_minor": 0,
  "metadata": {
    "colab": {
      "name": "machine_vision.ipynb",
      "provenance": [],
      "authorship_tag": "ABX9TyOWHkl4m6pmmtapz5a9m4Fs",
      "include_colab_link": true
    },
    "kernelspec": {
      "name": "python3",
      "display_name": "Python 3"
    },
    "language_info": {
      "name": "python"
    }
  },
  "cells": [
    {
      "cell_type": "markdown",
      "metadata": {
        "id": "view-in-github",
        "colab_type": "text"
      },
      "source": [
        "<a href=\"https://colab.research.google.com/github/1ucky40nc3/girlsday/blob/main/machine_vision.ipynb\" target=\"_parent\"><img src=\"https://colab.research.google.com/assets/colab-badge.svg\" alt=\"Open In Colab\"/></a>"
      ]
    },
    {
      "cell_type": "code",
      "metadata": {
        "cellView": "form",
        "id": "7jlb5pyNX_3u"
      },
      "source": [
        "# @title Licensed unter the Apache License, Version 2.0\n",
        "# https://github.com/1ucky40nc3/girlsday/blob/main/LICENSE"
      ],
      "execution_count": 1,
      "outputs": []
    },
    {
      "cell_type": "markdown",
      "metadata": {
        "id": "6HjxTMySYcNV"
      },
      "source": [
        "<table class=\"tfo-notebook-buttons\" align=\"left\">\n",
        "  <td>\n",
        "    <a target=\"_blank\" href=\"https://colab.research.google.com/github/1ucky40nc3/girlsday/blob/main/machine_vision.ipynb\"><img src=\"https://www.tensorflow.org/images/colab_logo_32px.png\" />Run in Google Colab</a>\n",
        "  </td>\n",
        "  <td>\n",
        "    <a target=\"_blank\" href=\"https://github.com/1ucky40nc3/girlsday/blob/main/machine_vision.ipynb\"><img src=\"https://www.tensorflow.org/images/GitHub-Mark-32px.png\" />View source on GitHub</a>\n",
        "  </td>\n",
        "</table>"
      ]
    },
    {
      "cell_type": "markdown",
      "metadata": {
        "id": "eotg948DXSwg"
      },
      "source": [
        "#Machine Vision"
      ]
    },
    {
      "cell_type": "markdown",
      "metadata": {
        "id": "QCiYVTbLaZg_"
      },
      "source": [
        "##Agenda\n",
        "\n",
        "\n",
        "\n",
        "1.   Image classification - ***Cat or Dog?***\n",
        "2.   Visualize Filters and Feature Maps in CNNs - ***How You Infer The Difference***\n",
        "3.   DeepDream - ***Dream About Cats And Dogs***\n",
        "4.   Deep Convolutional Generative Adversatial Networks - ***Our Own Cats And Dogs***"
      ]
    },
    {
      "cell_type": "markdown",
      "metadata": {
        "id": "Jn0-91_FbvPx"
      },
      "source": [
        "##1. Image classification - ***Cat or Dog?***"
      ]
    },
    {
      "cell_type": "code",
      "metadata": {
        "cellView": "form",
        "id": "qPsvalrXcRS8"
      },
      "source": [
        "# @title References\n",
        "# https://www.tensorflow.org/tutorials/images/classification\n",
        "# https://www.tensorflow.org/datasets/catalog/cats_vs_dogs?hl=ca"
      ],
      "execution_count": 2,
      "outputs": []
    },
    {
      "cell_type": "markdown",
      "metadata": {
        "id": "ppNfKV4Zb4O4"
      },
      "source": [
        "##2. Visualize Filters and Feature Maps in CNNs - ***How You Infer The Difference***"
      ]
    },
    {
      "cell_type": "code",
      "metadata": {
        "cellView": "form",
        "id": "V2yQ95IFcfbp"
      },
      "source": [
        "# @title References\n",
        "# https://machinelearningmastery.com/how-to-visualize-filters-and-feature-maps-in-convolutional-neural-networks/\n",
        "# https://github.com/slundberg/shap\n",
        "# https://github.com/yosinski/deep-visualization-toolbox"
      ],
      "execution_count": 3,
      "outputs": []
    },
    {
      "cell_type": "markdown",
      "metadata": {
        "id": "RbNMBlNtb7J1"
      },
      "source": [
        "##3. DeepDream - ***Dream About Cats And Dogs***"
      ]
    },
    {
      "cell_type": "code",
      "metadata": {
        "cellView": "form",
        "id": "ebNOAEkuc0CN"
      },
      "source": [
        "# @title References\n",
        "# https://www.tensorflow.org/tutorials/generative/deepdream"
      ],
      "execution_count": 4,
      "outputs": []
    },
    {
      "cell_type": "markdown",
      "metadata": {
        "id": "vIboOh37b_L_"
      },
      "source": [
        "##4. Deep Convolutional Generative Adversatial Networks - ***Our Own Cats And Dogs***"
      ]
    },
    {
      "cell_type": "code",
      "metadata": {
        "cellView": "form",
        "id": "vnptv6Dzc7pz"
      },
      "source": [
        "# @title References\n",
        "# https://www.tensorflow.org/tutorials/generative/deepdream"
      ],
      "execution_count": 5,
      "outputs": []
    }
  ]
}